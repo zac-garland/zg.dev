{
  "cells": [
    {
      "cell_type": "raw",
      "metadata": {},
      "source": [
        "---\n",
        "title: \"Python\"\n",
        "format:\n",
        "  html:\n",
        "    toc: false\n",
        "    echo: false\n",
        "    message: false\n",
        "    warning: false\n",
        "    keep-hidden: true\n",
        "    code-tools: true\n",
        "---"
      ],
      "id": "70bb6829"
    },
    {
      "cell_type": "code",
      "metadata": {},
      "source": [
        "from ipyleaflet import Map, Marker, basemaps, basemap_to_tiles\n",
        "m = Map(\n",
        "  basemap=basemap_to_tiles(\n",
        "    basemaps.USGS.USImageryTopo, \"2020-09-31\"\n",
        "  ),\n",
        "  center=(39.712950, -105.406600),\n",
        "  zoom=15\n",
        ")\n",
        "m.add_layer(Marker(location=(39.712950, -105.406600)))\n",
        "m"
      ],
      "id": "05b6a280",
      "execution_count": null,
      "outputs": []
    },
    {
      "cell_type": "code",
      "metadata": {},
      "source": [
        "import plotly.express as px\n",
        "df = px.data.iris()\n",
        "fig = px.scatter(df, x=\"sepal_width\", y=\"sepal_length\", \n",
        "                 color=\"species\", \n",
        "                 marginal_y=\"violin\", marginal_x=\"box\", template=\"plotly_dark\")\n",
        "fig.show()"
      ],
      "id": "baea8c81",
      "execution_count": null,
      "outputs": []
    }
  ],
  "metadata": {
    "kernelspec": {
      "display_name": "Python 3",
      "language": "python",
      "name": "python3"
    }
  },
  "nbformat": 4,
  "nbformat_minor": 5
}